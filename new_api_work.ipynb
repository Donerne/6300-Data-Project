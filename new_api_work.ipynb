{
 "cells": [
  {
   "cell_type": "code",
   "execution_count": 33,
   "metadata": {},
   "outputs": [
    {
     "name": "stdout",
     "output_type": "stream",
     "text": [
      "Requirement already satisfied: vaderSentiment in c:\\users\\ekf98\\anaconda3\\lib\\site-packages (3.3.2)\n",
      "Requirement already satisfied: requests in c:\\users\\ekf98\\anaconda3\\lib\\site-packages (from vaderSentiment) (2.32.3)\n",
      "Requirement already satisfied: charset-normalizer<4,>=2 in c:\\users\\ekf98\\anaconda3\\lib\\site-packages (from requests->vaderSentiment) (3.3.2)\n",
      "Requirement already satisfied: idna<4,>=2.5 in c:\\users\\ekf98\\anaconda3\\lib\\site-packages (from requests->vaderSentiment) (3.7)\n",
      "Requirement already satisfied: urllib3<3,>=1.21.1 in c:\\users\\ekf98\\anaconda3\\lib\\site-packages (from requests->vaderSentiment) (2.2.3)\n",
      "Requirement already satisfied: certifi>=2017.4.17 in c:\\users\\ekf98\\anaconda3\\lib\\site-packages (from requests->vaderSentiment) (2024.8.30)\n"
     ]
    },
    {
     "name": "stderr",
     "output_type": "stream",
     "text": [
      "\n",
      "[notice] A new release of pip is available: 24.3.1 -> 25.0\n",
      "[notice] To update, run: python.exe -m pip install --upgrade pip\n"
     ]
    }
   ],
   "source": [
    "!pip install vaderSentiment"
   ]
  },
  {
   "cell_type": "code",
   "execution_count": 34,
   "metadata": {},
   "outputs": [],
   "source": [
    "import requests\n",
    "import pandas as pd\n",
    "import numpy as np\n",
    "from datetime import date, timedelta\n",
    "from vaderSentiment.vaderSentiment import SentimentIntensityAnalyzer\n",
    "import csv"
   ]
  },
  {
   "cell_type": "code",
   "execution_count": 46,
   "metadata": {},
   "outputs": [],
   "source": [
    "NEWS_ENDPOINT = \"https://newsapi.org/v2/everything?\"\n",
    "\n",
    "news_api_key = \"1b3b397afaa34a7b8f1589a45af74273\"\n",
    "\n",
    "current_date =date.today()\n",
    "days_to_subtract = 31\n",
    "last_30_days = current_date - timedelta(days=days_to_subtract)\n",
    "\n",
    "news_params = {\n",
    "    'apiKey': \"1b3b397afaa34a7b8f1589a45af74273\",\n",
    "    'qInTitle': \"nvidia\",\n",
    "    'from': last_30_days,\n",
    "    'to': current_date,\n",
    "    'language': 'en',\n",
    "    'sortBy': 'relevancy'\n",
    "}"
   ]
  },
  {
   "cell_type": "code",
   "execution_count": 47,
   "metadata": {},
   "outputs": [
    {
     "name": "stdout",
     "output_type": "stream",
     "text": [
      "Error fetching data: 426, {\"status\":\"error\",\"code\":\"parameterInvalid\",\"message\":\"You are trying to request results too far in the past. Your plan permits you to request articles as far back as 2024-12-29, but you have requested 2024-12-26. You may need to upgrade to a paid plan.\"}\n"
     ]
    }
   ],
   "source": [
    "# API URL (Replace with your actual endpoint)\n",
    "api_url = \"https://newsapi.org/v2/everything?\"\n",
    "\n",
    "# Optional: Include API headers or parameters if required\n",
    "headers = {\n",
    "    \"apiKey\": \"1b3b397afaa34a7b8f1589a45af74273\",  # If required\n",
    "    # \"Content-Type\": \"application/json\",\n",
    "    'qInTitle': \"nvidia\",\n",
    "    'from': last_30_days,\n",
    "    'to': current_date,\n",
    "    'language': 'en',\n",
    "    'sortBy': 'relevancy'\n",
    "}\n",
    "\n",
    "# Fetch data from the API\n",
    "response = requests.get(api_url, params=headers)\n",
    "\n",
    "# Check if the request was successful\n",
    "if response.status_code == 200:\n",
    "    news_articles = response.json()['articles']  # Convert response to JSON\n",
    "    print(news_articles)\n",
    "\n",
    "    # # Define CSV filename\n",
    "    csv_filename = \"news_data.csv\"\n",
    "\n",
    "    # # Define column headers\n",
    "    headers = [\"Headline\", \"Brief\", \"URL\", \"Date\"]\n",
    "\n",
    "    # Extract relevant data\n",
    "    formatted_data = []\n",
    "    for article in news_articles:  \n",
    "        formatted_data.append({\n",
    "            \"Headline\": article.get(\"title\", \"\"),  # Adjust key names if different\n",
    "            \"Brief\": article.get(\"description\", \"\"),\n",
    "            \"URL\": article.get(\"url\", \"\"),\n",
    "            \"Date\": article.get(\"publishedAt\", \"\")\n",
    "        })\n",
    "\n",
    "    # Write to CSV\n",
    "    with open(csv_filename, mode=\"w\", newline=\"\", encoding=\"utf-8\") as file:\n",
    "        writer = csv.DictWriter(file, fieldnames=headers)\n",
    "        writer.writeheader()  # Write column headers\n",
    "        writer.writerows(formatted_data)  # Write extracted data\n",
    "\n",
    "    print(f\"CSV file '{csv_filename}' has been created successfully with {len(formatted_data)} articles!\")\n",
    "\n",
    "else:\n",
    "    print(f\"Error fetching data: {response.status_code}, {response.text}\")"
   ]
  },
  {
   "cell_type": "code",
   "execution_count": 37,
   "metadata": {},
   "outputs": [
    {
     "name": "stdout",
     "output_type": "stream",
     "text": [
      "Sentiment appended to news_data.csv successfully!\n"
     ]
    }
   ],
   "source": [
    "# Load the existing CSV file\n",
    "csv_filename = \"news_data.csv\"\n",
    "df = pd.read_csv(csv_filename)\n",
    "\n",
    "# Initialize VADER sentiment analyzer\n",
    "analyzer = SentimentIntensityAnalyzer()\n",
    "\n",
    "# Function to classify sentiment\n",
    "def get_sentiment(text):\n",
    "    score = analyzer.polarity_scores(text)[\"compound\"]\n",
    "    if score > 0.05:\n",
    "        return \"Positive\"\n",
    "    elif score < -0.05:\n",
    "        return \"Negative\"\n",
    "    else:\n",
    "        return \"Neutral\"\n",
    "\n",
    "# Apply sentiment analysis to each row\n",
    "df[\"Sentiment\"] = df.apply(lambda row: get_sentiment(f\"{row['Headline']} {row['Brief']}\"), axis=1)\n",
    "\n",
    "# Save back to the same CSV file (overwrite with sentiment added)\n",
    "df.to_csv(csv_filename, index=False)\n",
    "\n",
    "print(f\"Sentiment appended to {csv_filename} successfully!\")"
   ]
  },
  {
   "cell_type": "code",
   "execution_count": null,
   "metadata": {},
   "outputs": [],
   "source": []
  },
  {
   "cell_type": "code",
   "execution_count": null,
   "metadata": {},
   "outputs": [],
   "source": []
  },
  {
   "cell_type": "code",
   "execution_count": null,
   "metadata": {},
   "outputs": [],
   "source": []
  },
  {
   "cell_type": "code",
   "execution_count": null,
   "metadata": {},
   "outputs": [],
   "source": []
  }
 ],
 "metadata": {
  "kernelspec": {
   "display_name": "base",
   "language": "python",
   "name": "python3"
  },
  "language_info": {
   "codemirror_mode": {
    "name": "ipython",
    "version": 3
   },
   "file_extension": ".py",
   "mimetype": "text/x-python",
   "name": "python",
   "nbconvert_exporter": "python",
   "pygments_lexer": "ipython3",
   "version": "3.12.7"
  }
 },
 "nbformat": 4,
 "nbformat_minor": 2
}
